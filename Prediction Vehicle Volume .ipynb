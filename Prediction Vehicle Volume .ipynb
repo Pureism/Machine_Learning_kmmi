{
  "nbformat": 4,
  "nbformat_minor": 0,
  "metadata": {
    "kernelspec": {
      "display_name": "py3.7",
      "language": "python",
      "name": "py3.7"
    },
    "language_info": {
      "codemirror_mode": {
        "name": "ipython",
        "version": 3
      },
      "file_extension": ".py",
      "mimetype": "text/x-python",
      "name": "python",
      "nbconvert_exporter": "python",
      "pygments_lexer": "ipython3",
      "version": "3.7.2"
    },
    "colab": {
      "name": "TT62 Prediksi Volume Kendaraan.ipynb",
      "provenance": [],
      "collapsed_sections": [],
      "include_colab_link": true
    }
  },
  "cells": [
    {
      "cell_type": "markdown",
      "metadata": {
        "id": "view-in-github",
        "colab_type": "text"
      },
      "source": [
        "<a href=\"https://colab.research.google.com/github/Pureism/Machine_Learning_kmmi/blob/master/Prediction%20Vehicle%20Volume%20.ipynb\" target=\"_parent\"><img src=\"https://colab.research.google.com/assets/colab-badge.svg\" alt=\"Open In Colab\"/></a>"
      ]
    },
    {
      "cell_type": "markdown",
      "metadata": {
        "id": "1fWn_1rDSvRY"
      },
      "source": [
        "# PREDIKSI VOLUME KENDARAAN PADA SATU JEMBATAN"
      ]
    },
    {
      "cell_type": "markdown",
      "metadata": {
        "id": "UnquJEQtSSN0"
      },
      "source": [
        "Dalam kegiatan ini, kita akan berlatih pemilihan model menggunakan validasi silang sekali lagi. \n",
        "\n",
        "Di sini, kita akan menggunakan kumpulan data simulasi yang mewakili variabel target yaitu volume lalu lintas dalam mobil/jam melintasi jembatan kota. Inputnya adalah berbagai fitur yang dinormalisasi terkait dengan data lalu lintas seperti waktu dan volume lalu lintas pada hari sebelumnya. \n",
        "\n",
        "Tujuannya adalah membangun model yang memprediksi volume lalu lintas melintasi jembatan kota dengan berbagai fitur.\n",
        "Dataset berisi 10.000 record, dan untuk masing-masing record, 10 atribut/fitur disertakan. \n",
        "\n",
        "Tujuannya adalah untuk membangun jaringan saraf dalam yang menerima 10 fitur dan memprediksi volume lalu lintas melintasi jembatan. Karena outputnya adalah parameter numerik, ini adalah masalah regresi."
      ]
    },
    {
      "cell_type": "code",
      "metadata": {
        "id": "aBlGTJGrP8FH"
      },
      "source": [
        "# import the required packages\n",
        "from keras.models import Sequential\n",
        "from keras.layers import Dense\n",
        "from keras.wrappers.scikit_learn import KerasRegressor\n",
        "from sklearn.model_selection import KFold, cross_val_score\n",
        "from sklearn.preprocessing import StandardScaler\n",
        "from sklearn.pipeline import make_pipeline\n",
        "import numpy as np\n",
        "import pandas as pd\n",
        "from tensorflow import random"
      ],
      "execution_count": null,
      "outputs": []
    },
    {
      "cell_type": "code",
      "metadata": {
        "id": "dcW9K5-ES_64",
        "colab": {
          "base_uri": "https://localhost:8080/"
        },
        "outputId": "d6bd5baa-67e3-4e6d-edda-3e2998e76f04"
      },
      "source": [
        "from google.colab import drive\n",
        "\n",
        "drive.mount('/content/drive')"
      ],
      "execution_count": null,
      "outputs": [
        {
          "output_type": "stream",
          "text": [
            "Drive already mounted at /content/drive; to attempt to forcibly remount, call drive.mount(\"/content/drive\", force_remount=True).\n"
          ],
          "name": "stdout"
        }
      ]
    },
    {
      "cell_type": "code",
      "metadata": {
        "id": "nYkOQtivP8FK",
        "colab": {
          "base_uri": "https://localhost:8080/"
        },
        "outputId": "1b8c3892-4cf8-4322-b71e-f0b2b9aba959"
      },
      "source": [
        "# Load the dataset\n",
        "folder='/content/drive/MyDrive/Other/KMMI/Data/'\n",
        "X = pd.read_csv(folder + 'traffic_volume_feats.csv')\n",
        "y = pd.read_csv(folder + 'traffic_volume_target.csv')\n",
        "\n",
        "# Print the sizes of input data and output data\n",
        "print(\"Input data size = \", X.shape)\n",
        "print(\"Output size = \", y.shape)\n",
        "# Print the range for output\n",
        "print(f\"Output Range = ({y['Volume'].min()}, { y['Volume'].max()})\")"
      ],
      "execution_count": null,
      "outputs": [
        {
          "output_type": "stream",
          "text": [
            "Input data size =  (10000, 10)\n",
            "Output size =  (10000, 1)\n",
            "Output Range = (0, 584)\n"
          ],
          "name": "stdout"
        }
      ]
    },
    {
      "cell_type": "code",
      "metadata": {
        "colab": {
          "base_uri": "https://localhost:8080/",
          "height": 424
        },
        "id": "r4CrwCnAtWQL",
        "outputId": "0157fb5b-3d10-4404-ff8a-04bfdad03fe9"
      },
      "source": [
        "X"
      ],
      "execution_count": null,
      "outputs": [
        {
          "output_type": "execute_result",
          "data": {
            "text/html": [
              "<div>\n",
              "<style scoped>\n",
              "    .dataframe tbody tr th:only-of-type {\n",
              "        vertical-align: middle;\n",
              "    }\n",
              "\n",
              "    .dataframe tbody tr th {\n",
              "        vertical-align: top;\n",
              "    }\n",
              "\n",
              "    .dataframe thead th {\n",
              "        text-align: right;\n",
              "    }\n",
              "</style>\n",
              "<table border=\"1\" class=\"dataframe\">\n",
              "  <thead>\n",
              "    <tr style=\"text-align: right;\">\n",
              "      <th></th>\n",
              "      <th>feature 1</th>\n",
              "      <th>feature 2</th>\n",
              "      <th>feature 3</th>\n",
              "      <th>feature 4</th>\n",
              "      <th>feature 5</th>\n",
              "      <th>feature 6</th>\n",
              "      <th>feature 7</th>\n",
              "      <th>feature 8</th>\n",
              "      <th>feature 9</th>\n",
              "      <th>feature 10</th>\n",
              "    </tr>\n",
              "  </thead>\n",
              "  <tbody>\n",
              "    <tr>\n",
              "      <th>0</th>\n",
              "      <td>0.510028</td>\n",
              "      <td>-0.032517</td>\n",
              "      <td>-0.414008</td>\n",
              "      <td>-0.523798</td>\n",
              "      <td>-1.949610</td>\n",
              "      <td>1.157322</td>\n",
              "      <td>-1.838422</td>\n",
              "      <td>0.528099</td>\n",
              "      <td>1.242689</td>\n",
              "      <td>-1.786399</td>\n",
              "    </tr>\n",
              "    <tr>\n",
              "      <th>1</th>\n",
              "      <td>-0.326082</td>\n",
              "      <td>0.136930</td>\n",
              "      <td>1.309433</td>\n",
              "      <td>-0.215550</td>\n",
              "      <td>-0.142714</td>\n",
              "      <td>0.646497</td>\n",
              "      <td>1.410953</td>\n",
              "      <td>1.122434</td>\n",
              "      <td>0.749717</td>\n",
              "      <td>-0.981489</td>\n",
              "    </tr>\n",
              "    <tr>\n",
              "      <th>2</th>\n",
              "      <td>1.031654</td>\n",
              "      <td>1.493003</td>\n",
              "      <td>0.444896</td>\n",
              "      <td>-0.596994</td>\n",
              "      <td>1.455600</td>\n",
              "      <td>0.618361</td>\n",
              "      <td>-1.408919</td>\n",
              "      <td>0.409685</td>\n",
              "      <td>0.850719</td>\n",
              "      <td>-0.160130</td>\n",
              "    </tr>\n",
              "    <tr>\n",
              "      <th>3</th>\n",
              "      <td>1.114472</td>\n",
              "      <td>-1.372319</td>\n",
              "      <td>-1.959487</td>\n",
              "      <td>0.329696</td>\n",
              "      <td>1.013829</td>\n",
              "      <td>-0.272457</td>\n",
              "      <td>-0.169959</td>\n",
              "      <td>-0.695401</td>\n",
              "      <td>-1.474272</td>\n",
              "      <td>0.038814</td>\n",
              "    </tr>\n",
              "    <tr>\n",
              "      <th>4</th>\n",
              "      <td>-0.395354</td>\n",
              "      <td>-1.084628</td>\n",
              "      <td>1.262634</td>\n",
              "      <td>-1.458452</td>\n",
              "      <td>-0.568413</td>\n",
              "      <td>-0.663912</td>\n",
              "      <td>1.213383</td>\n",
              "      <td>0.301551</td>\n",
              "      <td>2.336896</td>\n",
              "      <td>0.899147</td>\n",
              "    </tr>\n",
              "    <tr>\n",
              "      <th>...</th>\n",
              "      <td>...</td>\n",
              "      <td>...</td>\n",
              "      <td>...</td>\n",
              "      <td>...</td>\n",
              "      <td>...</td>\n",
              "      <td>...</td>\n",
              "      <td>...</td>\n",
              "      <td>...</td>\n",
              "      <td>...</td>\n",
              "      <td>...</td>\n",
              "    </tr>\n",
              "    <tr>\n",
              "      <th>9995</th>\n",
              "      <td>-1.513654</td>\n",
              "      <td>0.275664</td>\n",
              "      <td>0.048831</td>\n",
              "      <td>0.374313</td>\n",
              "      <td>-0.362242</td>\n",
              "      <td>-0.772904</td>\n",
              "      <td>0.252449</td>\n",
              "      <td>1.180318</td>\n",
              "      <td>-0.933421</td>\n",
              "      <td>-0.530960</td>\n",
              "    </tr>\n",
              "    <tr>\n",
              "      <th>9996</th>\n",
              "      <td>0.685558</td>\n",
              "      <td>-1.998606</td>\n",
              "      <td>-0.126526</td>\n",
              "      <td>-0.968824</td>\n",
              "      <td>1.323761</td>\n",
              "      <td>0.793946</td>\n",
              "      <td>0.554632</td>\n",
              "      <td>-1.003434</td>\n",
              "      <td>0.774915</td>\n",
              "      <td>-0.831321</td>\n",
              "    </tr>\n",
              "    <tr>\n",
              "      <th>9997</th>\n",
              "      <td>-1.175462</td>\n",
              "      <td>-1.220735</td>\n",
              "      <td>-0.071382</td>\n",
              "      <td>0.410001</td>\n",
              "      <td>0.724950</td>\n",
              "      <td>-1.217239</td>\n",
              "      <td>1.808301</td>\n",
              "      <td>-0.489635</td>\n",
              "      <td>1.950857</td>\n",
              "      <td>1.185076</td>\n",
              "    </tr>\n",
              "    <tr>\n",
              "      <th>9998</th>\n",
              "      <td>-1.016701</td>\n",
              "      <td>0.231030</td>\n",
              "      <td>0.994693</td>\n",
              "      <td>-0.518165</td>\n",
              "      <td>1.191007</td>\n",
              "      <td>0.993987</td>\n",
              "      <td>-0.298044</td>\n",
              "      <td>-2.420217</td>\n",
              "      <td>-0.001308</td>\n",
              "      <td>-1.057017</td>\n",
              "    </tr>\n",
              "    <tr>\n",
              "      <th>9999</th>\n",
              "      <td>-1.096296</td>\n",
              "      <td>0.232550</td>\n",
              "      <td>-0.868300</td>\n",
              "      <td>0.426424</td>\n",
              "      <td>-0.731359</td>\n",
              "      <td>0.570782</td>\n",
              "      <td>-0.005626</td>\n",
              "      <td>-1.101987</td>\n",
              "      <td>0.144948</td>\n",
              "      <td>1.365757</td>\n",
              "    </tr>\n",
              "  </tbody>\n",
              "</table>\n",
              "<p>10000 rows × 10 columns</p>\n",
              "</div>"
            ],
            "text/plain": [
              "      feature 1  feature 2  feature 3  ...  feature 8  feature 9  feature 10\n",
              "0      0.510028  -0.032517  -0.414008  ...   0.528099   1.242689   -1.786399\n",
              "1     -0.326082   0.136930   1.309433  ...   1.122434   0.749717   -0.981489\n",
              "2      1.031654   1.493003   0.444896  ...   0.409685   0.850719   -0.160130\n",
              "3      1.114472  -1.372319  -1.959487  ...  -0.695401  -1.474272    0.038814\n",
              "4     -0.395354  -1.084628   1.262634  ...   0.301551   2.336896    0.899147\n",
              "...         ...        ...        ...  ...        ...        ...         ...\n",
              "9995  -1.513654   0.275664   0.048831  ...   1.180318  -0.933421   -0.530960\n",
              "9996   0.685558  -1.998606  -0.126526  ...  -1.003434   0.774915   -0.831321\n",
              "9997  -1.175462  -1.220735  -0.071382  ...  -0.489635   1.950857    1.185076\n",
              "9998  -1.016701   0.231030   0.994693  ...  -2.420217  -0.001308   -1.057017\n",
              "9999  -1.096296   0.232550  -0.868300  ...  -1.101987   0.144948    1.365757\n",
              "\n",
              "[10000 rows x 10 columns]"
            ]
          },
          "metadata": {},
          "execution_count": 6
        }
      ]
    },
    {
      "cell_type": "code",
      "metadata": {
        "id": "UFu3VuuxRUAZ"
      },
      "source": [
        "from sklearn.model_selection import train_test_split\n",
        "\n",
        "seed = 1\n",
        "np.random.seed(seed)\n",
        "random.set_seed(seed)\n",
        "sc = StandardScaler()\n",
        "X = pd.DataFrame(sc.fit_transform(X), columns=X.columns)\n",
        "X_train, X_test, y_train, y_test = train_test_split(X, y, test_size=0.2, random_state=seed, shuffle=False)"
      ],
      "execution_count": null,
      "outputs": []
    },
    {
      "cell_type": "code",
      "metadata": {
        "id": "Rz4w6HvbP8FM"
      },
      "source": [
        "# Create the function that returns the keras model 1\n",
        "def build_model_1(optimizer='adam'):\n",
        "    # create model 1\n",
        "    model = Sequential()\n",
        "    model.add(Dense(10, input_dim=X_train.shape[1], activation='relu'))\n",
        "    model.add(Dense(1))\n",
        "    # Compile model\n",
        "    model.compile(loss='mean_squared_error', optimizer=optimizer)\n",
        "    return model\n",
        "\n",
        "\n",
        "# Create the function that returns the keras model 2\n",
        "def build_model_2(optimizer='adam'):\n",
        "    # create model 2\n",
        "    model = Sequential()\n",
        "    model.add(Dense(10, input_dim=X_train.shape[1], activation='relu'))\n",
        "    model.add(Dense(10, activation='relu'))\n",
        "    model.add(Dense(1))\n",
        "    # Compile model\n",
        "    model.compile(loss='mean_squared_error', optimizer=optimizer)\n",
        "    return model\n",
        "\n",
        "# Create the function that returns the keras model 3\n",
        "def build_model_3(optimizer='adam'):\n",
        "    # create model 3\n",
        "    model = Sequential()\n",
        "    model.add(Dense(10, input_dim=X_train.shape[1], activation='relu'))\n",
        "    model.add(Dense(10, activation='relu'))\n",
        "    model.add(Dense(10, activation='relu'))\n",
        "    model.add(Dense(1))\n",
        "    # Compile model\n",
        "    model.compile(loss='mean_squared_error', optimizer=optimizer)\n",
        "    return model"
      ],
      "execution_count": null,
      "outputs": []
    },
    {
      "cell_type": "code",
      "metadata": {
        "id": "9nrcEowSP8FM"
      },
      "source": [
        "# define a seed for random number generator so the result will be reproducible\n",
        "seed = 1\n",
        "np.random.seed(seed)\n",
        "random.set_seed(seed)\n",
        "# determine the number of folds for k-fold cross validation\n",
        "n_folds = 5\n",
        "# define the list to store cross validation scores\n",
        "results_1 = []\n",
        "# define the possible options for the model\n",
        "models = [build_model_1, build_model_2, build_model_3]\n",
        "# loop over models\n",
        "for i in range(len(models)):\n",
        "    # build the Scikit-Learn interface for the keras model\n",
        "    regressor = KerasRegressor(build_fn=models[i], epochs=100, batch_size=50, verbose=0, shuffle=False)\n",
        "    # build the pipeline of transformations so for each fold trainind set will be scaled \n",
        "    # and test set will be scaled accordingly.\n",
        "    model = make_pipeline(StandardScaler(), regressor)\n",
        "    # define the cross validation iterator\n",
        "    kfold = KFold(n_splits=n_folds, shuffle=True, random_state=seed)\n",
        "    # perform the k-fold cross validation. \n",
        "    # store the scores in result\n",
        "    result = cross_val_score(model, X_train, y_train, cv=kfold)\n",
        "    # add the scores to the results list \n",
        "    results_1.append(result)"
      ],
      "execution_count": null,
      "outputs": []
    },
    {
      "cell_type": "code",
      "metadata": {
        "id": "kuvBXdSDP8FN",
        "colab": {
          "base_uri": "https://localhost:8080/"
        },
        "outputId": "34392e9d-4655-4652-937c-421fe114bf81"
      },
      "source": [
        "# Print cross validation score for each model\n",
        "rank_1 = []\n",
        "for i in range(len(models)):\n",
        "    rank_1.append(abs(results_1[i].mean()))\n",
        "    print(\"Model \", i+1,\" test error rate = \", rank_1[i])\n",
        "\n",
        "min = np.argwhere(rank_1 == np.min(rank_1)).reshape((1))\n",
        "print(f'\\nModel yang terbaik adalah menggunakan {models[min[0]]}')"
      ],
      "execution_count": null,
      "outputs": [
        {
          "output_type": "stream",
          "text": [
            "Model  1  test error rate =  27.81182098388672\n",
            "Model  2  test error rate =  24.99327507019043\n",
            "Model  3  test error rate =  25.98710060119629\n",
            "Model yang terbaik adalah menggunakan <function build_model_2 at 0x7f5a7a1ba710>\n"
          ],
          "name": "stdout"
        }
      ]
    },
    {
      "cell_type": "code",
      "metadata": {
        "colab": {
          "base_uri": "https://localhost:8080/"
        },
        "id": "jGohKT3_oo1e",
        "outputId": "98167ed0-89a4-458c-e461-594cda459221"
      },
      "source": [
        "results_1_rank"
      ],
      "execution_count": null,
      "outputs": [
        {
          "output_type": "execute_result",
          "data": {
            "text/plain": [
              "[27.81182098388672, 24.99327507019043, 25.98710060119629]"
            ]
          },
          "metadata": {},
          "execution_count": 24
        }
      ]
    },
    {
      "cell_type": "code",
      "metadata": {
        "id": "mm2fIOemP8FO"
      },
      "source": [
        "# define a seed for random number generator so the result will be reproducible\n",
        "seed = 1\n",
        "np.random.seed(seed)\n",
        "random.set_seed(seed)\n",
        "# determine the number of folds for k-fold cross validation\n",
        "n_folds = 5\n",
        "# define the list to store cross validation scores\n",
        "results_2 = []\n",
        "# define possible options for epochs and batch_size\n",
        "epochs = [80, 100]\n",
        "batches = [50, 25]\n",
        "# loop over all possible pairs of epochs, batch_size\n",
        "for i in range(len(epochs)):\n",
        "    for j in range(len(batches)):\n",
        "        # build the Scikit-Learn interface for the keras model\n",
        "        regressor = KerasRegressor(build_fn=build_model_2, epochs=epochs[i], batch_size=batches[j], verbose=0, shuffle=False)\n",
        "        # build the pipeline of transformations so for each fold trainind set will be scaled \n",
        "        # and test set will be scaled accordingly.\n",
        "        model = make_pipeline(StandardScaler(), regressor)\n",
        "        # define the cross validation iterator\n",
        "        kfold = KFold(n_splits=n_folds, shuffle=True, random_state=seed)\n",
        "        # perform the k-fold cross validation. \n",
        "        # store the scores in result\n",
        "        result = cross_val_score(model, X_train, y_train, cv=kfold)\n",
        "        # add the scores to the results list \n",
        "        results_2.append(result)"
      ],
      "execution_count": null,
      "outputs": []
    },
    {
      "cell_type": "code",
      "metadata": {
        "id": "q2ajfyoHP8FP"
      },
      "source": [
        "# Print cross validation score for each possible pair of epochs, batch_size\n",
        "c = 0\n",
        "for i in range(len(epochs)):\n",
        "    for j in range(len(batches)):\n",
        "        print(\"batch_size = \", batches[j],\", epochs = \", epochs[i], \", Test error rate = \", abs(results_2[c].mean()))\n",
        "        c += 1"
      ],
      "execution_count": null,
      "outputs": []
    },
    {
      "cell_type": "code",
      "metadata": {
        "id": "LFktM1xwC1Z1"
      },
      "source": [
        "# Modify the function that returns the keras model 2\n",
        "def build_model_2(optimizer=optimizer):\n",
        "    # create model 2\n",
        "    model = Sequential()\n",
        "    model.add(Dense(10, input_dim=X_train.shape[1], activation='relu'))\n",
        "    model.add(Dense(10, activation='relu'))\n",
        "    model.add(Dense(1))\n",
        "    # Compile model\n",
        "    model.compile(loss='mean_squared_error', optimizer=optimizer)\n",
        "    return model"
      ],
      "execution_count": null,
      "outputs": []
    },
    {
      "cell_type": "code",
      "metadata": {
        "id": "6YXLiSvPP8FQ"
      },
      "source": [
        "# define a seed for random number generator so the result will be reproducible\n",
        "np.random.seed(seed)\n",
        "random.set_seed(seed)\n",
        "# determine the number of folds for k-fold cross validation\n",
        "n_folds = 5\n",
        "# define the list to store cross validation scores\n",
        "results_3 =[]\n",
        "# define the possible options for the optimizer\n",
        "optimizers = ['adam', 'sgd', 'rmsprop']\n",
        "\n",
        "# loop over optimizers\n",
        "for i in range(len(optimizers)):\n",
        "    optimizer=optimizers[i]\n",
        "    # build the Scikit-Learn interface for the keras model\n",
        "    regressor = KerasRegressor(build_fn=build_model_2, epochs=80, batch_size=50, verbose=0, shuffle=False)\n",
        "    # build the pipeline of transformations so for each fold trainind set will be scaled \n",
        "    # and test set will be scaled accordingly.\n",
        "    model = make_pipeline(StandardScaler(), regressor)\n",
        "    # define the cross validation iterator\n",
        "    kfold = KFold(n_splits=n_folds, shuffle=True, random_state=seed)\n",
        "    # perform the k-fold cross validation. \n",
        "    # store the scores in result\n",
        "    result = cross_val_score(model, X_train, y_train, cv=kfold)\n",
        "    # add the scores to the results list \n",
        "    results_3.append(result)"
      ],
      "execution_count": null,
      "outputs": []
    },
    {
      "cell_type": "code",
      "metadata": {
        "id": "q7WwvKktP8FR"
      },
      "source": [
        "# Print cross validation score for each optimizer\n",
        "# SGD terbaik\n",
        "for i in range(len(optimizers)):\n",
        "    print(\"optimizer=\", optimizers[i],\" test error rate = \", abs(results_3[i].mean()))"
      ],
      "execution_count": null,
      "outputs": []
    },
    {
      "cell_type": "code",
      "metadata": {
        "id": "vM0hxpP_Te4Z"
      },
      "source": [
        "# Modify Model\n",
        "def build_model_2():\n",
        "    # create model 2\n",
        "    model = Sequential()\n",
        "    model.add(Dense(10, input_dim=X_train.shape[1], activation='relu'))\n",
        "    model.add(Dense(10, activation='relu'))\n",
        "    model.add(Dense(1))\n",
        "    # Compile model\n",
        "    model.compile(loss='mean_squared_error', optimizer='sgd')\n",
        "    return model"
      ],
      "execution_count": null,
      "outputs": []
    },
    {
      "cell_type": "code",
      "metadata": {
        "id": "a5InVNn2J2jY"
      },
      "source": [
        ""
      ],
      "execution_count": null,
      "outputs": []
    },
    {
      "cell_type": "markdown",
      "metadata": {
        "id": "ROxl1owjTf22"
      },
      "source": [
        "# Tugas\n",
        "\n",
        "\n",
        "1.   Dapatkan model terbaik dari kasus di atas\n",
        "2.   Latihlah model terbaik ini\n",
        "3.   Plot loss atau accuracy training dan validasi\n",
        "4.   Ujilah model terlatih ini dengan data test\n",
        "5.   Cetak hasilnya\n",
        "\n"
      ]
    }
  ]
}